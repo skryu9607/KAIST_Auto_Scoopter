{
  "cells": [
    {
      "cell_type": "markdown",
      "metadata": {
        "id": "view-in-github",
        "colab_type": "text"
      },
      "source": [
        "<a href=\"https://colab.research.google.com/github/skryu9607/KAIST_Auto_Scoopter/blob/master/generate_request.ipynb\" target=\"_parent\"><img src=\"https://colab.research.google.com/assets/colab-badge.svg\" alt=\"Open In Colab\"/></a>"
      ]
    },
    {
      "cell_type": "code",
      "source": [
        "\n",
        "!pip install osmnx"
      ],
      "metadata": {
        "colab": {
          "base_uri": "https://localhost:8080/"
        },
        "id": "Tg3LIBVgmu-z",
        "outputId": "e69b8d54-bb10-47e0-aa9b-9461b109e257"
      },
      "id": "Tg3LIBVgmu-z",
      "execution_count": null,
      "outputs": [
        {
          "output_type": "stream",
          "name": "stdout",
          "text": [
            "Looking in indexes: https://pypi.org/simple, https://us-python.pkg.dev/colab-wheels/public/simple/\n",
            "Requirement already satisfied: osmnx in /usr/local/lib/python3.8/dist-packages (1.2.2)\n",
            "Requirement already satisfied: Rtree>=1.0 in /usr/local/lib/python3.8/dist-packages (from osmnx) (1.0.1)\n",
            "Requirement already satisfied: geopandas>=0.11 in /usr/local/lib/python3.8/dist-packages (from osmnx) (0.12.1)\n",
            "Requirement already satisfied: Shapely<2.0,>=1.8 in /usr/local/lib/python3.8/dist-packages (from osmnx) (1.8.5.post1)\n",
            "Requirement already satisfied: networkx>=2.8 in /usr/local/lib/python3.8/dist-packages (from osmnx) (2.8.8)\n",
            "Requirement already satisfied: matplotlib>=3.5 in /usr/local/lib/python3.8/dist-packages (from osmnx) (3.5.0)\n",
            "Requirement already satisfied: numpy>=1.22 in /usr/local/lib/python3.8/dist-packages (from osmnx) (1.23.5)\n",
            "Requirement already satisfied: requests>=2.28 in /usr/local/lib/python3.8/dist-packages (from osmnx) (2.28.1)\n",
            "Requirement already satisfied: pyproj>=3.3 in /usr/local/lib/python3.8/dist-packages (from osmnx) (3.4.0)\n",
            "Requirement already satisfied: pandas>=1.4 in /usr/local/lib/python3.8/dist-packages (from osmnx) (1.5.2)\n",
            "Requirement already satisfied: fiona>=1.8 in /usr/local/lib/python3.8/dist-packages (from geopandas>=0.11->osmnx) (1.8.22)\n",
            "Requirement already satisfied: packaging in /usr/local/lib/python3.8/dist-packages (from geopandas>=0.11->osmnx) (21.3)\n",
            "Requirement already satisfied: click>=4.0 in /usr/local/lib/python3.8/dist-packages (from fiona>=1.8->geopandas>=0.11->osmnx) (7.1.2)\n",
            "Requirement already satisfied: munch in /usr/local/lib/python3.8/dist-packages (from fiona>=1.8->geopandas>=0.11->osmnx) (2.5.0)\n",
            "Requirement already satisfied: attrs>=17 in /usr/local/lib/python3.8/dist-packages (from fiona>=1.8->geopandas>=0.11->osmnx) (22.1.0)\n",
            "Requirement already satisfied: setuptools in /usr/local/lib/python3.8/dist-packages (from fiona>=1.8->geopandas>=0.11->osmnx) (57.4.0)\n",
            "Requirement already satisfied: cligj>=0.5 in /usr/local/lib/python3.8/dist-packages (from fiona>=1.8->geopandas>=0.11->osmnx) (0.7.2)\n",
            "Requirement already satisfied: six>=1.7 in /usr/local/lib/python3.8/dist-packages (from fiona>=1.8->geopandas>=0.11->osmnx) (1.15.0)\n",
            "Requirement already satisfied: click-plugins>=1.0 in /usr/local/lib/python3.8/dist-packages (from fiona>=1.8->geopandas>=0.11->osmnx) (1.1.1)\n",
            "Requirement already satisfied: certifi in /usr/local/lib/python3.8/dist-packages (from fiona>=1.8->geopandas>=0.11->osmnx) (2022.9.24)\n",
            "Requirement already satisfied: fonttools>=4.22.0 in /usr/local/lib/python3.8/dist-packages (from matplotlib>=3.5->osmnx) (4.38.0)\n",
            "Requirement already satisfied: setuptools-scm>=4 in /usr/local/lib/python3.8/dist-packages (from matplotlib>=3.5->osmnx) (7.0.5)\n",
            "Requirement already satisfied: pyparsing>=2.2.1 in /usr/local/lib/python3.8/dist-packages (from matplotlib>=3.5->osmnx) (3.0.9)\n",
            "Requirement already satisfied: cycler>=0.10 in /usr/local/lib/python3.8/dist-packages (from matplotlib>=3.5->osmnx) (0.11.0)\n",
            "Requirement already satisfied: pillow>=6.2.0 in /usr/local/lib/python3.8/dist-packages (from matplotlib>=3.5->osmnx) (7.1.2)\n",
            "Requirement already satisfied: python-dateutil>=2.7 in /usr/local/lib/python3.8/dist-packages (from matplotlib>=3.5->osmnx) (2.8.2)\n",
            "Requirement already satisfied: kiwisolver>=1.0.1 in /usr/local/lib/python3.8/dist-packages (from matplotlib>=3.5->osmnx) (1.4.4)\n",
            "Requirement already satisfied: pytz>=2020.1 in /usr/local/lib/python3.8/dist-packages (from pandas>=1.4->osmnx) (2022.6)\n",
            "Requirement already satisfied: urllib3<1.27,>=1.21.1 in /usr/local/lib/python3.8/dist-packages (from requests>=2.28->osmnx) (1.24.3)\n",
            "Requirement already satisfied: idna<4,>=2.5 in /usr/local/lib/python3.8/dist-packages (from requests>=2.28->osmnx) (2.10)\n",
            "Requirement already satisfied: charset-normalizer<3,>=2 in /usr/local/lib/python3.8/dist-packages (from requests>=2.28->osmnx) (2.1.1)\n",
            "Requirement already satisfied: typing-extensions in /usr/local/lib/python3.8/dist-packages (from setuptools-scm>=4->matplotlib>=3.5->osmnx) (4.1.1)\n",
            "Requirement already satisfied: tomli>=1.0.0 in /usr/local/lib/python3.8/dist-packages (from setuptools-scm>=4->matplotlib>=3.5->osmnx) (2.0.1)\n"
          ]
        }
      ]
    },
    {
      "cell_type": "code",
      "source": [
        "!pip install matplotlib==3.5.0"
      ],
      "metadata": {
        "colab": {
          "base_uri": "https://localhost:8080/"
        },
        "id": "sGtZkE6M4k6D",
        "outputId": "1a9fceaa-14c5-45c3-f7cc-dc57a8be0aa5"
      },
      "id": "sGtZkE6M4k6D",
      "execution_count": null,
      "outputs": [
        {
          "output_type": "stream",
          "name": "stdout",
          "text": [
            "Looking in indexes: https://pypi.org/simple, https://us-python.pkg.dev/colab-wheels/public/simple/\n",
            "Requirement already satisfied: matplotlib==3.5.0 in /usr/local/lib/python3.8/dist-packages (3.5.0)\n",
            "Requirement already satisfied: packaging>=20.0 in /usr/local/lib/python3.8/dist-packages (from matplotlib==3.5.0) (21.3)\n",
            "Requirement already satisfied: cycler>=0.10 in /usr/local/lib/python3.8/dist-packages (from matplotlib==3.5.0) (0.11.0)\n",
            "Requirement already satisfied: pyparsing>=2.2.1 in /usr/local/lib/python3.8/dist-packages (from matplotlib==3.5.0) (3.0.9)\n",
            "Requirement already satisfied: setuptools-scm>=4 in /usr/local/lib/python3.8/dist-packages (from matplotlib==3.5.0) (7.0.5)\n",
            "Requirement already satisfied: kiwisolver>=1.0.1 in /usr/local/lib/python3.8/dist-packages (from matplotlib==3.5.0) (1.4.4)\n",
            "Requirement already satisfied: numpy>=1.17 in /usr/local/lib/python3.8/dist-packages (from matplotlib==3.5.0) (1.23.5)\n",
            "Requirement already satisfied: python-dateutil>=2.7 in /usr/local/lib/python3.8/dist-packages (from matplotlib==3.5.0) (2.8.2)\n",
            "Requirement already satisfied: pillow>=6.2.0 in /usr/local/lib/python3.8/dist-packages (from matplotlib==3.5.0) (7.1.2)\n",
            "Requirement already satisfied: fonttools>=4.22.0 in /usr/local/lib/python3.8/dist-packages (from matplotlib==3.5.0) (4.38.0)\n",
            "Requirement already satisfied: six>=1.5 in /usr/local/lib/python3.8/dist-packages (from python-dateutil>=2.7->matplotlib==3.5.0) (1.15.0)\n",
            "Requirement already satisfied: setuptools in /usr/local/lib/python3.8/dist-packages (from setuptools-scm>=4->matplotlib==3.5.0) (57.4.0)\n",
            "Requirement already satisfied: typing-extensions in /usr/local/lib/python3.8/dist-packages (from setuptools-scm>=4->matplotlib==3.5.0) (4.1.1)\n",
            "Requirement already satisfied: tomli>=1.0.0 in /usr/local/lib/python3.8/dist-packages (from setuptools-scm>=4->matplotlib==3.5.0) (2.0.1)\n"
          ]
        }
      ]
    },
    {
      "cell_type": "code",
      "source": [
        "!pip install networkx"
      ],
      "metadata": {
        "colab": {
          "base_uri": "https://localhost:8080/"
        },
        "id": "pank7_IpmyAD",
        "outputId": "3a216a1f-8c15-4b69-e204-1b31f2f5ea46"
      },
      "id": "pank7_IpmyAD",
      "execution_count": null,
      "outputs": [
        {
          "output_type": "stream",
          "name": "stdout",
          "text": [
            "Looking in indexes: https://pypi.org/simple, https://us-python.pkg.dev/colab-wheels/public/simple/\n",
            "Requirement already satisfied: networkx in /usr/local/lib/python3.8/dist-packages (2.8.8)\n"
          ]
        }
      ]
    },
    {
      "cell_type": "code",
      "source": [
        "!pip install haversine"
      ],
      "metadata": {
        "colab": {
          "base_uri": "https://localhost:8080/"
        },
        "id": "7UXCpKA_A1xU",
        "outputId": "dfa3271f-c520-4333-9ee6-e65d5d8a4377"
      },
      "id": "7UXCpKA_A1xU",
      "execution_count": null,
      "outputs": [
        {
          "output_type": "stream",
          "name": "stdout",
          "text": [
            "Looking in indexes: https://pypi.org/simple, https://us-python.pkg.dev/colab-wheels/public/simple/\n",
            "Requirement already satisfied: haversine in /usr/local/lib/python3.8/dist-packages (2.7.0)\n"
          ]
        }
      ]
    },
    {
      "cell_type": "code",
      "execution_count": null,
      "id": "ee25a6ba-25c2-4505-aa13-30cc68b4b761",
      "metadata": {
        "colab": {
          "base_uri": "https://localhost:8080/",
          "height": 436
        },
        "id": "ee25a6ba-25c2-4505-aa13-30cc68b4b761",
        "outputId": "a8b03966-1c6c-4283-a28b-8ade2894a3ca"
      },
      "outputs": [
        {
          "output_type": "display_data",
          "data": {
            "text/plain": [
              "<Figure size 576x576 with 1 Axes>"
            ],
            "image/png": "[encoded data removed]"
          },
          "metadata": {}
        }
      ],
      "source": [
        "import pandas as pd\n",
        "import numpy as np\n",
        "import csv\n",
        "import random\n",
        "NUM_REQUEST = 20 \n",
        "import networkx as nx\n",
        "import osmnx as ox\n",
        "\n",
        "%matplotlib inline\n",
        "ox.__version__\n",
        "kaist = (36.3709,127.3613)\n",
        "\n",
        "G = ox.graph_from_point(kaist, dist=750, network_type = \"bike\")\n",
        "fig, ax = ox.plot_graph(G, node_size=10)"
      ]
    },
    {
      "cell_type": "code",
      "execution_count": null,
      "id": "96c46141",
      "metadata": {
        "id": "96c46141",
        "outputId": "b606392f-ba21-4224-e343-28ac630e2f5c",
        "colab": {
          "base_uri": "https://localhost:8080/",
          "height": 466
        }
      },
      "outputs": [
        {
          "output_type": "display_data",
          "data": {
            "text/plain": [
              "<Figure size 576x576 with 1 Axes>"
            ],
            "image/png": "[encoded data removed]"
          },
          "metadata": {}
        }
      ],
      "source": [
        "# you can convert your graph to node and edge GeoPandas GeoDataFrames\n",
        "gdf_nodes, gdf_edges = ox.graph_to_gdfs(G)\n",
        "# print(gdf_nodes)\n",
        "new_gdf = gdf_nodes\n",
        "new_gdf1 = new_gdf[-0.5157593123218502 * new_gdf.x + new_gdf.y < -29.323675157711996]\n",
        "G_new = G\n",
        "for i in new_gdf1.index:\n",
        "    try:\n",
        "        G_new.remove_node(i)\n",
        "    except:\n",
        "        pass\n",
        "   \n",
        "new_gdf2 = new_gdf[-0.6590909090895878* new_gdf.x + new_gdf.y < -47.579106363468064]\n",
        "\n",
        "for i in new_gdf2.index:\n",
        "    try:\n",
        "        G_new.remove_node(i)\n",
        "    except:\n",
        "        pass\n",
        "\n",
        "new_gdf = gdf_nodes[gdf_nodes.x < 127.3564 ]\n",
        "new_gdf = new_gdf[new_gdf.y > 36.37165]\n",
        "\n",
        "for i in new_gdf.index:\n",
        "    try:\n",
        "        G_new.remove_node(i)\n",
        "    except:\n",
        "        pass\n",
        "    \n",
        "new_gdf = gdf_nodes[gdf_nodes.y > 36.37588]\n",
        "new_gdf\n",
        "for i in new_gdf.index:\n",
        "    try:\n",
        "        G_new.remove_node(i)\n",
        "    except:\n",
        "        pass\n",
        "    \n",
        "new_gdf = gdf_nodes\n",
        "new_gdf2 = new_gdf[2.297872340464131* new_gdf.x + new_gdf.y > 329.0468246857673]\n",
        "new_gdf2 = new_gdf2[new_gdf2.y > 36.37037]\n",
        "for i in new_gdf2.index:\n",
        "    try:\n",
        "        G_new.remove_node(i)\n",
        "    except:\n",
        "        pass\n",
        "\n",
        "new_gdf = gdf_nodes\n",
        "new_gdf = new_gdf[new_gdf.y >36.37266]\n",
        "new_gdf = new_gdf[new_gdf.y <36.37304]\n",
        "new_gdf = new_gdf[new_gdf.x >127.36686]\n",
        "new_gdf = new_gdf[new_gdf.x <127.36720]\n",
        "for i in new_gdf.index:\n",
        "    try:\n",
        "        G_new.remove_node(i)\n",
        "    except:\n",
        "        pass\n",
        "\n",
        "G_new.remove_node(10093887420)    \n",
        "fig, ax = ox.plot_graph(G_new, node_size=10)"
      ]
    },
    {
      "cell_type": "code",
      "execution_count": null,
      "id": "59c4d425",
      "metadata": {
        "id": "59c4d425",
        "outputId": "18fec6fb-9f17-434b-d051-768d288468e8",
        "colab": {
          "base_uri": "https://localhost:8080/",
          "height": 436
        }
      },
      "outputs": [
        {
          "output_type": "display_data",
          "data": {
            "text/plain": [
              "<Figure size 576x576 with 1 Axes>"
            ],
            "image/png": "[encoded data removed]"
          },
          "metadata": {}
        }
      ],
      "source": [
        "kaist = (36.3709,127.3613)\n",
        "\n",
        "G = ox.graph_from_point(kaist, dist=750, network_type = \"bike\")\n",
        "fig, ax = ox.plot_graph(G, node_size=10)"
      ]
    },
    {
      "cell_type": "code",
      "source": [
        "from google.colab import drive\n",
        "drive.mount('/content/drive')"
      ],
      "metadata": {
        "colab": {
          "base_uri": "https://localhost:8080/"
        },
        "id": "Ck1FD9e2oUR7",
        "outputId": "3724c606-3653-4b8d-e2e0-f28c678758f2"
      },
      "id": "Ck1FD9e2oUR7",
      "execution_count": null,
      "outputs": [
        {
          "output_type": "stream",
          "name": "stdout",
          "text": [
            "Drive already mounted at /content/drive; to attempt to forcibly remount, call drive.mount(\"/content/drive\", force_remount=True).\n"
          ]
        }
      ]
    },
    {
      "cell_type": "code",
      "execution_count": null,
      "id": "39ce9595",
      "metadata": {
        "id": "39ce9595",
        "outputId": "314f5493-e1ce-41ce-8c5e-8a7f2b59e71e",
        "colab": {
          "base_uri": "https://localhost:8080/"
        }
      },
      "outputs": [
        {
          "output_type": "stream",
          "name": "stderr",
          "text": [
            "<ipython-input-161-7a28c3f5e408>:10: DeprecationWarning: `np.float` is a deprecated alias for the builtin `float`. To silence this warning, use `float` by itself. Doing this will not modify any behavior and is safe. If you specifically wanted the numpy scalar type, use `np.float64` here.\n",
            "Deprecated in NumPy 1.20; for more details and guidance: https://numpy.org/devdocs/release/1.20.0-notes.html#deprecations\n",
            "  Node_yx = Node_yx.astype(np.float)\n"
          ]
        },
        {
          "output_type": "execute_result",
          "data": {
            "text/plain": [
              "<function TextIOWrapper.close()>"
            ]
          },
          "metadata": {},
          "execution_count": 161
        }
      ],
      "source": [
        "\n",
        "nodd = list()\n",
        "f = open('/content/drive/MyDrive/E-Scooter/for_test/kaist_node.csv','r')\n",
        "n = csv.reader(f)\n",
        "for row in n:\n",
        "    nodd.append(row)\n",
        "node = np.array(nodd[1:])\n",
        "\n",
        "Node=node[:,0]\n",
        "Node_yx = node[:,1:3]\n",
        "Node_yx = Node_yx.astype(np.float)\n",
        "Node_road_count = node[:,3]\n",
        "f.close\n"
      ]
    },
    {
      "cell_type": "code",
      "source": [
        "Node"
      ],
      "metadata": {
        "colab": {
          "base_uri": "https://localhost:8080/"
        },
        "id": "OF-fz2zXJdw1",
        "outputId": "fa2233bb-a949-4db7-dbac-8c9060843d36"
      },
      "id": "OF-fz2zXJdw1",
      "execution_count": null,
      "outputs": [
        {
          "output_type": "execute_result",
          "data": {
            "text/plain": [
              "array(['277875336', '317557475', '317557510', '317557514', '317557515',\n",
              "       '317557516', '317557519', '317557534', '317557535', '317557538',\n",
              "       '317557612', '317557615', '317557616', '317557623', '317557625',\n",
              "       '317557633', '317557634', '317557637', '317557642', '317557648',\n",
              "       '317557651', '317557652', '317557655', '317557656', '317557670',\n",
              "       '317557673', '352963031', '352963156', '352963165', '352963182',\n",
              "       '352963189', '352963217', '352963275', '352963317', '352963331',\n",
              "       '352963401', '910330593', '910330595', '917104038', '917104049',\n",
              "       '917104096', '2060630060', '2074603279', '2204213101',\n",
              "       '2290285064', '2292328365', '2292328367', '2292329732',\n",
              "       '2292329733', '2292330391', '2292330392', '2292331317',\n",
              "       '2292331321', '2292335706', '2292336709', '2292336712',\n",
              "       '2292338854', '2292338857', '2292342537', '2292342538',\n",
              "       '2292342539', '2292342540', '2292342541', '2292342978',\n",
              "       '2292342979', '2292342980', '2292345422', '2292346328',\n",
              "       '2292346334', '2292346336', '2292354473', '2292359495',\n",
              "       '2292361220', '2293459552', '2293460994', '2293462789',\n",
              "       '2293462790', '2293469581', '2293469582', '2293532366',\n",
              "       '2293534114', '2293534115', '2293534607', '2293534609',\n",
              "       '2293534883', '2293536691', '2293536706', '2293539664',\n",
              "       '2293539665', '2293539666', '2293539667', '2293539967',\n",
              "       '2293539968', '2293539970', '2293539971', '2293544759',\n",
              "       '2293545799', '2293550214', '2293551606', '2293551607',\n",
              "       '2293551610', '2293551611', '2293552798', '2293552799',\n",
              "       '2293553833', '2293554294', '2293554881', '2293554883',\n",
              "       '2293555950', '2293556604', '2293556605', '2293557683',\n",
              "       '2293557687', '2293558694', '2293558695', '2293558696',\n",
              "       '2293558846', '2293580441', '2293581218', '2293581220',\n",
              "       '2293581794', '2293583308', '2293584471', '2293584747',\n",
              "       '2293584748', '2293585317', '2293585318', '2293585789',\n",
              "       '2293585791', '2293590487', '2293592121', '2293592122',\n",
              "       '2293592721', '2293592722', '2294277553', '2294278118',\n",
              "       '2294278363', '2294278714', '2294278716', '2294279422',\n",
              "       '2294279586', '2294281926', '2294284343', '2294287859',\n",
              "       '2294288398', '2294288400', '2294290626', '2294290629',\n",
              "       '2294291321', '2294291323', '2294291940', '2294291941',\n",
              "       '2294291985', '2294291986', '2294292102', '2294292104',\n",
              "       '2294292531', '2294292532', '2294292910', '2331413823',\n",
              "       '2331414153', '2331414822', '2331415111', '2331415151',\n",
              "       '2331415160', '2331415471', '2331416520', '2331416522',\n",
              "       '2331416651', '2331416652', '2331416740', '2908483724',\n",
              "       '2908483725', '2932858551', '4213322167', '4531926854',\n",
              "       '4627616334', '4627817988', '4627817993', '4627973421',\n",
              "       '4627973422', '4627973435', '4627973436', '4627982679',\n",
              "       '4628030973', '4634216986', '4634217697', '4634217698',\n",
              "       '4634217706', '4634753893', '4634753896', '4637385062',\n",
              "       '4637385065', '4641480383', '4643926605', '4643926606',\n",
              "       '4647854231', '4647854232', '4647854237', '4647854243',\n",
              "       '4654928260', '4654928261', '4654928262', '4654928265',\n",
              "       '4722087782', '4730731391', '4731581478', '4736308374',\n",
              "       '4736308375', '4798029853', '4927687871', '4937770601',\n",
              "       '4937770609', '4937770619', '4941377123', '4941377134',\n",
              "       '4941377156', '4943314670', '4943734639', '4943734640',\n",
              "       '4943734641', '4943734642', '4943734654', '4943734655',\n",
              "       '4943734701', '4943734702', '4943734718', '4943734748',\n",
              "       '4943734750', '4943734753', '4943734754', '4943734755',\n",
              "       '4943734756', '4943734757', '4943734758', '4943734759',\n",
              "       '4943946155', '4943946156', '4945111989', '4945112006',\n",
              "       '4945112013', '4945112069', '5437915825', '8344008188',\n",
              "       '8344008189', '8344008192', '8693207706', '9017069244',\n",
              "       '10076512441', '10076512452'], dtype='<U30')"
            ]
          },
          "metadata": {},
          "execution_count": 162
        }
      ]
    },
    {
      "cell_type": "code",
      "source": [
        "osmid1 = '277875336'\n",
        "start_idx = np.where(Node == osmid1)\n",
        "print(start_idx)"
      ],
      "metadata": {
        "colab": {
          "base_uri": "https://localhost:8080/"
        },
        "id": "kKwDb1QECjo_",
        "outputId": "21bf737d-8cd2-4e3f-a27b-4649de0da54e"
      },
      "id": "kKwDb1QECjo_",
      "execution_count": null,
      "outputs": [
        {
          "output_type": "stream",
          "name": "stdout",
          "text": [
            "(array([0]),)\n"
          ]
        }
      ]
    },
    {
      "cell_type": "code",
      "execution_count": null,
      "id": "52fe700f",
      "metadata": {
        "id": "52fe700f",
        "colab": {
          "base_uri": "https://localhost:8080/"
        },
        "outputId": "441c554c-b49e-4c32-bcc7-06d50d80ef46"
      },
      "outputs": [
        {
          "output_type": "execute_result",
          "data": {
            "text/plain": [
              "<function TextIOWrapper.close()>"
            ]
          },
          "metadata": {},
          "execution_count": 164
        }
      ],
      "source": [
        "\n",
        "# ! kaist_edge.csv했을 때 name이 깨진다. \n",
        "nodd = list()\n",
        "ff = open('/content/drive/MyDrive/E-Scooter/for_test/kaist_edge.csv','r',encoding='utf-8')\n",
        "n = csv.reader(ff)\n",
        "for row in n:\n",
        "    nodd.append(row)\n",
        "edge = np.array(nodd[1:])\n",
        "# u,v,key,osmid,\n",
        "# name,highway,oneway,\n",
        "# reversed,length,lanes,\n",
        "# geometry,maxspeed,access,\n",
        "# service,bridge,junction\n",
        "edge_u = edge[:,0]\n",
        "edge_v = edge[:,1]\n",
        "edge_len = edge[:,8]\n",
        "edge_len = [float(s) for s in edge_len]\n",
        "f.close"
      ]
    },
    {
      "cell_type": "code",
      "source": [
        "edge_u"
      ],
      "metadata": {
        "colab": {
          "base_uri": "https://localhost:8080/"
        },
        "id": "Vk0--gUDFKL6",
        "outputId": "039b8692-2f64-49be-db00-3bf7dfd41871"
      },
      "id": "Vk0--gUDFKL6",
      "execution_count": null,
      "outputs": [
        {
          "output_type": "execute_result",
          "data": {
            "text/plain": [
              "array(['277875336', '277875336', '317557475', '317557475', '317557510',\n",
              "       '317557510', '317557510', '317557514', '317557514', '317557514',\n",
              "       '317557515', '317557515', '317557515', '317557516', '317557516',\n",
              "       '317557516', '317557519', '317557519', '317557519', '317557534',\n",
              "       '317557534', '317557534', '317557535', '317557535', '317557535',\n",
              "       '317557535', '317557538', '317557538', '317557538', '317557612',\n",
              "       '317557612', '317557612', '317557615', '317557615', '317557615',\n",
              "       '317557616', '317557616', '317557616', '317557623', '317557623',\n",
              "       '317557623', '317557625', '317557625', '317557625', '317557633',\n",
              "       '317557633', '317557633', '317557633', '317557634', '317557634',\n",
              "       '317557634', '317557634', '317557637', '317557637', '317557637',\n",
              "       '317557642', '317557642', '317557642', '317557642', '317557648',\n",
              "       '317557648', '317557648', '317557648', '317557651', '317557651',\n",
              "       '317557651', '317557652', '317557652', '317557652', '317557655',\n",
              "       '317557655', '317557655', '317557656', '317557656', '317557656',\n",
              "       '317557670', '317557670', '317557670', '317557673', '317557673',\n",
              "       '352963031', '352963031', '352963156', '352963156', '352963156',\n",
              "       '352963165', '352963165', '352963165', '352963182', '352963182',\n",
              "       '352963182', '352963189', '352963189', '352963189', '352963217',\n",
              "       '352963217', '352963217', '352963275', '352963275', '352963275',\n",
              "       '352963317', '352963317', '352963317', '352963331', '352963331',\n",
              "       '352963331', '352963401', '352963401', '352963401', '910330593',\n",
              "       '910330593', '910330593', '910330595', '917104038', '917104049',\n",
              "       '917104096', '917104096', '917104096', '2060630060', '2060630060',\n",
              "       '2060630060', '2074603279', '2074603279', '2074603279',\n",
              "       '2204213101', '2204213101', '2204213101', '2204213101',\n",
              "       '2290285064', '2290285064', '2290285064', '2290285064',\n",
              "       '2292328365', '2292328365', '2292328365', '2292328367',\n",
              "       '2292328367', '2292328367', '2292329732', '2292329732',\n",
              "       '2292329732', '2292329733', '2292330391', '2292330391',\n",
              "       '2292330391', '2292330392', '2292330392', '2292330392',\n",
              "       '2292331317', '2292331321', '2292331321', '2292331321',\n",
              "       '2292331321', '2292335706', '2292335706', '2292335706',\n",
              "       '2292336709', '2292336709', '2292336709', '2292336712',\n",
              "       '2292336712', '2292338854', '2292338857', '2292338857',\n",
              "       '2292338857', '2292342537', '2292342537', '2292342537',\n",
              "       '2292342538', '2292342538', '2292342538', '2292342539',\n",
              "       '2292342539', '2292342539', '2292342540', '2292342540',\n",
              "       '2292342540', '2292342541', '2292342541', '2292342541',\n",
              "       '2292342978', '2292342978', '2292342978', '2292342979',\n",
              "       '2292342979', '2292342979', '2292342980', '2292342980',\n",
              "       '2292342980', '2292345422', '2292345422', '2292345422',\n",
              "       '2292346328', '2292346334', '2292346334', '2292346334',\n",
              "       '2292346336', '2292354473', '2292354473', '2292354473',\n",
              "       '2292359495', '2292359495', '2292359495', '2292359495',\n",
              "       '2292361220', '2293459552', '2293459552', '2293459552',\n",
              "       '2293460994', '2293462789', '2293462789', '2293462789',\n",
              "       '2293462790', '2293462790', '2293462790', '2293469581',\n",
              "       '2293469582', '2293469582', '2293469582', '2293532366',\n",
              "       '2293532366', '2293532366', '2293534114', '2293534114',\n",
              "       '2293534114', '2293534115', '2293534115', '2293534115',\n",
              "       '2293534115', '2293534607', '2293534607', '2293534607',\n",
              "       '2293534607', '2293534609', '2293534609', '2293534609',\n",
              "       '2293534883', '2293534883', '2293534883', '2293536691',\n",
              "       '2293536691', '2293536691', '2293536706', '2293536706',\n",
              "       '2293539664', '2293539664', '2293539664', '2293539665',\n",
              "       '2293539665', '2293539665', '2293539666', '2293539667',\n",
              "       '2293539667', '2293539667', '2293539967', '2293539967',\n",
              "       '2293539967', '2293539968', '2293539968', '2293539968',\n",
              "       '2293539970', '2293539970', '2293539970', '2293539971',\n",
              "       '2293539971', '2293539971', '2293544759', '2293545799',\n",
              "       '2293545799', '2293545799', '2293550214', '2293550214',\n",
              "       '2293550214', '2293551606', '2293551606', '2293551606',\n",
              "       '2293551607', '2293551607', '2293551607', '2293551610',\n",
              "       '2293551610', '2293551610', '2293551611', '2293551611',\n",
              "       '2293551611', '2293552798', '2293552798', '2293552798',\n",
              "       '2293552799', '2293553833', '2293554294', '2293554881',\n",
              "       '2293554883', '2293554883', '2293554883', '2293555950',\n",
              "       '2293555950', '2293555950', '2293555950', '2293556604',\n",
              "       '2293556604', '2293556604', '2293556605', '2293556605',\n",
              "       '2293556605', '2293556605', '2293557683', '2293557683',\n",
              "       '2293557683', '2293557687', '2293558694', '2293558694',\n",
              "       '2293558694', '2293558695', '2293558695', '2293558695',\n",
              "       '2293558696', '2293558696', '2293558696', '2293558846',\n",
              "       '2293558846', '2293580441', '2293580441', '2293580441',\n",
              "       '2293581218', '2293581218', '2293581218', '2293581220',\n",
              "       '2293581220', '2293581220', '2293581794', '2293581794',\n",
              "       '2293581794', '2293581794', '2293583308', '2293583308',\n",
              "       '2293583308', '2293584471', '2293584747', '2293584747',\n",
              "       '2293584747', '2293584748', '2293585317', '2293585318',\n",
              "       '2293585318', '2293585318', '2293585789', '2293585789',\n",
              "       '2293585789', '2293585791', '2293585791', '2293585791',\n",
              "       '2293590487', '2293590487', '2293590487', '2293592121',\n",
              "       '2293592121', '2293592121', '2293592122', '2293592122',\n",
              "       '2293592122', '2293592721', '2293592721', '2293592721',\n",
              "       '2293592722', '2293592722', '2293592722', '2294277553',\n",
              "       '2294278118', '2294278118', '2294278118', '2294278363',\n",
              "       '2294278714', '2294278714', '2294278714', '2294278716',\n",
              "       '2294278716', '2294278716', '2294279422', '2294279586',\n",
              "       '2294279586', '2294279586', '2294281926', '2294281926',\n",
              "       '2294281926', '2294284343', '2294284343', '2294284343',\n",
              "       '2294287859', '2294287859', '2294287859', '2294288398',\n",
              "       '2294288400', '2294290626', '2294290626', '2294290626',\n",
              "       '2294290629', '2294290629', '2294290629', '2294291321',\n",
              "       '2294291321', '2294291321', '2294291321', '2294291323',\n",
              "       '2294291323', '2294291323', '2294291940', '2294291941',\n",
              "       '2294291941', '2294291941', '2294291985', '2294291985',\n",
              "       '2294291985', '2294291986', '2294291986', '2294291986',\n",
              "       '2294292102', '2294292102', '2294292102', '2294292104',\n",
              "       '2294292104', '2294292104', '2294292531', '2294292531',\n",
              "       '2294292532', '2294292532', '2294292910', '2294292910',\n",
              "       '2331413823', '2331414153', '2331414153', '2331414153',\n",
              "       '2331414153', '2331414822', '2331414822', '2331414822',\n",
              "       '2331415111', '2331415111', '2331415111', '2331415151',\n",
              "       '2331415151', '2331415151', '2331415160', '2331415160',\n",
              "       '2331415160', '2331415471', '2331415471', '2331415471',\n",
              "       '2331416520', '2331416520', '2331416520', '2331416522',\n",
              "       '2331416522', '2331416522', '2331416651', '2331416651',\n",
              "       '2331416651', '2331416652', '2331416740', '2331416740',\n",
              "       '2331416740', '2908483724', '2908483724', '2908483724',\n",
              "       '2908483725', '2908483725', '2908483725', '2932858551',\n",
              "       '4213322167', '4213322167', '4213322167', '4531926854',\n",
              "       '4531926854', '4627616334', '4627817988', '4627817988',\n",
              "       '4627817988', '4627817993', '4627973421', '4627973422',\n",
              "       '4627973435', '4627973435', '4627973436', '4627973436',\n",
              "       '4627982679', '4627982679', '4627982679', '4628030973',\n",
              "       '4628030973', '4628030973', '4634216986', '4634216986',\n",
              "       '4634216986', '4634217697', '4634217697', '4634217697',\n",
              "       '4634217698', '4634217698', '4634217698', '4634217706',\n",
              "       '4634217706', '4634217706', '4634753893', '4634753893',\n",
              "       '4634753893', '4634753896', '4634753896', '4634753896',\n",
              "       '4637385062', '4637385062', '4637385062', '4637385065',\n",
              "       '4637385065', '4637385065', '4641480383', '4641480383',\n",
              "       '4641480383', '4643926605', '4643926605', '4643926605',\n",
              "       '4643926606', '4643926606', '4643926606', '4647854231',\n",
              "       '4647854232', '4647854232', '4647854232', '4647854237',\n",
              "       '4647854243', '4647854243', '4647854243', '4654928260',\n",
              "       '4654928260', '4654928260', '4654928261', '4654928262',\n",
              "       '4654928262', '4654928262', '4654928265', '4722087782',\n",
              "       '4722087782', '4722087782', '4731581478', '4736308374',\n",
              "       '4736308374', '4736308374', '4736308375', '4798029853',\n",
              "       '4927687871', '4927687871', '4927687871', '4937770601',\n",
              "       '4937770609', '4937770619', '4941377123', '4941377123',\n",
              "       '4941377134', '4941377156', '4941377156', '4941377156',\n",
              "       '4943314670', '4943734639', '4943734639', '4943734639',\n",
              "       '4943734639', '4943734640', '4943734640', '4943734640',\n",
              "       '4943734641', '4943734641', '4943734641', '4943734642',\n",
              "       '4943734654', '4943734654', '4943734654', '4943734655',\n",
              "       '4943734701', '4943734701', '4943734701', '4943734702',\n",
              "       '4943734718', '4943734748', '4943734748', '4943734748',\n",
              "       '4943734750', '4943734753', '4943734754', '4943734754',\n",
              "       '4943734754', '4943734755', '4943734755', '4943734755',\n",
              "       '4943734756', '4943734756', '4943734756', '4943734757',\n",
              "       '4943734757', '4943734757', '4943734758', '4943734758',\n",
              "       '4943734758', '4943734759', '4943734759', '4943734759',\n",
              "       '4943946155', '4943946156', '4945111989', '4945112006',\n",
              "       '4945112013', '4945112069', '5437915825', '5437915825',\n",
              "       '5437915825', '8344008188', '8344008189', '8344008189',\n",
              "       '8344008189', '8344008192', '8344008192', '8344008192',\n",
              "       '8693207706', '8693207706', '8693207706', '9017069244',\n",
              "       '9017069244', '9017069244', '10076512441', '10076512452',\n",
              "       '10076512452', '10076512452'], dtype='<U485')"
            ]
          },
          "metadata": {},
          "execution_count": 165
        }
      ]
    },
    {
      "cell_type": "code",
      "execution_count": null,
      "id": "9a37d378-fa75-43ac-82ec-c3133f2502eb",
      "metadata": {
        "id": "9a37d378-fa75-43ac-82ec-c3133f2502eb"
      },
      "outputs": [],
      "source": [
        "def random_dates(start, end, n):\n",
        "    start_u = start.value//10**9\n",
        "    end_u = end.value//10**9\n",
        "\n",
        "    return pd.DatetimeIndex((10**9*np.random.randint(start_u, end_u, n, dtype=np.int64)).view('M8[ns]'))"
      ]
    },
    {
      "cell_type": "code",
      "execution_count": null,
      "id": "73842f92-24cd-40ef-8465-f1601527e0eb",
      "metadata": {
        "id": "73842f92-24cd-40ef-8465-f1601527e0eb",
        "colab": {
          "base_uri": "https://localhost:8080/",
          "height": 669
        },
        "outputId": "ace003a5-454e-4f77-a0df-dd0a35d5589d"
      },
      "outputs": [
        {
          "output_type": "execute_result",
          "data": {
            "text/plain": [
              "                  Time\n",
              "0  2022-11-30 04:34:36\n",
              "1  2022-11-30 05:35:56\n",
              "2  2022-11-30 06:04:41\n",
              "3  2022-11-30 06:12:12\n",
              "4  2022-11-30 07:51:52\n",
              "5  2022-11-30 09:03:00\n",
              "6  2022-11-30 09:55:49\n",
              "7  2022-11-30 14:03:41\n",
              "8  2022-11-30 14:09:47\n",
              "9  2022-11-30 15:02:42\n",
              "10 2022-11-30 15:21:25\n",
              "11 2022-11-30 15:24:00\n",
              "12 2022-11-30 15:46:52\n",
              "13 2022-11-30 17:16:57\n",
              "14 2022-11-30 17:36:25\n",
              "15 2022-11-30 19:06:47\n",
              "16 2022-11-30 20:16:17\n",
              "17 2022-11-30 20:46:03\n",
              "18 2022-11-30 22:31:37\n",
              "19 2022-11-30 23:19:58"
            ],
            "text/html": [
              "\n",
              "  <div id=\"df-85827b34-7a27-4ae5-a994-963cb410e0d4\">\n",
              "    <div class=\"colab-df-container\">\n",
              "      <div>\n",
              "<style scoped>\n",
              "    .dataframe tbody tr th:only-of-type {\n",
              "        vertical-align: middle;\n",
              "    }\n",
              "\n",
              "    .dataframe tbody tr th {\n",
              "        vertical-align: top;\n",
              "    }\n",
              "\n",
              "    .dataframe thead th {\n",
              "        text-align: right;\n",
              "    }\n",
              "</style>\n",
              "<table border=\"1\" class=\"dataframe\">\n",
              "  <thead>\n",
              "    <tr style=\"text-align: right;\">\n",
              "      <th></th>\n",
              "      <th>Time</th>\n",
              "    </tr>\n",
              "  </thead>\n",
              "  <tbody>\n",
              "    <tr>\n",
              "      <th>0</th>\n",
              "      <td>2022-11-30 04:34:36</td>\n",
              "    </tr>\n",
              "    <tr>\n",
              "      <th>1</th>\n",
              "      <td>2022-11-30 05:35:56</td>\n",
              "    </tr>\n",
              "    <tr>\n",
              "      <th>2</th>\n",
              "      <td>2022-11-30 06:04:41</td>\n",
              "    </tr>\n",
              "    <tr>\n",
              "      <th>3</th>\n",
              "      <td>2022-11-30 06:12:12</td>\n",
              "    </tr>\n",
              "    <tr>\n",
              "      <th>4</th>\n",
              "      <td>2022-11-30 07:51:52</td>\n",
              "    </tr>\n",
              "    <tr>\n",
              "      <th>5</th>\n",
              "      <td>2022-11-30 09:03:00</td>\n",
              "    </tr>\n",
              "    <tr>\n",
              "      <th>6</th>\n",
              "      <td>2022-11-30 09:55:49</td>\n",
              "    </tr>\n",
              "    <tr>\n",
              "      <th>7</th>\n",
              "      <td>2022-11-30 14:03:41</td>\n",
              "    </tr>\n",
              "    <tr>\n",
              "      <th>8</th>\n",
              "      <td>2022-11-30 14:09:47</td>\n",
              "    </tr>\n",
              "    <tr>\n",
              "      <th>9</th>\n",
              "      <td>2022-11-30 15:02:42</td>\n",
              "    </tr>\n",
              "    <tr>\n",
              "      <th>10</th>\n",
              "      <td>2022-11-30 15:21:25</td>\n",
              "    </tr>\n",
              "    <tr>\n",
              "      <th>11</th>\n",
              "      <td>2022-11-30 15:24:00</td>\n",
              "    </tr>\n",
              "    <tr>\n",
              "      <th>12</th>\n",
              "      <td>2022-11-30 15:46:52</td>\n",
              "    </tr>\n",
              "    <tr>\n",
              "      <th>13</th>\n",
              "      <td>2022-11-30 17:16:57</td>\n",
              "    </tr>\n",
              "    <tr>\n",
              "      <th>14</th>\n",
              "      <td>2022-11-30 17:36:25</td>\n",
              "    </tr>\n",
              "    <tr>\n",
              "      <th>15</th>\n",
              "      <td>2022-11-30 19:06:47</td>\n",
              "    </tr>\n",
              "    <tr>\n",
              "      <th>16</th>\n",
              "      <td>2022-11-30 20:16:17</td>\n",
              "    </tr>\n",
              "    <tr>\n",
              "      <th>17</th>\n",
              "      <td>2022-11-30 20:46:03</td>\n",
              "    </tr>\n",
              "    <tr>\n",
              "      <th>18</th>\n",
              "      <td>2022-11-30 22:31:37</td>\n",
              "    </tr>\n",
              "    <tr>\n",
              "      <th>19</th>\n",
              "      <td>2022-11-30 23:19:58</td>\n",
              "    </tr>\n",
              "  </tbody>\n",
              "</table>\n",
              "</div>\n",
              "      <button class=\"colab-df-convert\" onclick=\"convertToInteractive('df-85827b34-7a27-4ae5-a994-963cb410e0d4')\"\n",
              "              title=\"Convert this dataframe to an interactive table.\"\n",
              "              style=\"display:none;\">\n",
              "        \n",
              "  <svg xmlns=\"http://www.w3.org/2000/svg\" height=\"24px\"viewBox=\"0 0 24 24\"\n",
              "       width=\"24px\">\n",
              "    <path d=\"M0 0h24v24H0V0z\" fill=\"none\"/>\n",
              "    <path d=\"M18.56 5.44l.94 2.06.94-2.06 2.06-.94-2.06-.94-.94-2.06-.94 2.06-2.06.94zm-11 1L8.5 8.5l.94-2.06 2.06-.94-2.06-.94L8.5 2.5l-.94 2.06-2.06.94zm10 10l.94 2.06.94-2.06 2.06-.94-2.06-.94-.94-2.06-.94 2.06-2.06.94z\"/><path d=\"M17.41 7.96l-1.37-1.37c-.4-.4-.92-.59-1.43-.59-.52 0-1.04.2-1.43.59L10.3 9.45l-7.72 7.72c-.78.78-.78 2.05 0 2.83L4 21.41c.39.39.9.59 1.41.59.51 0 1.02-.2 1.41-.59l7.78-7.78 2.81-2.81c.8-.78.8-2.07 0-2.86zM5.41 20L4 18.59l7.72-7.72 1.47 1.35L5.41 20z\"/>\n",
              "  </svg>\n",
              "      </button>\n",
              "      \n",
              "  <style>\n",
              "    .colab-df-container {\n",
              "      display:flex;\n",
              "      flex-wrap:wrap;\n",
              "      gap: 12px;\n",
              "    }\n",
              "\n",
              "    .colab-df-convert {\n",
              "      background-color: #E8F0FE;\n",
              "      border: none;\n",
              "      border-radius: 50%;\n",
              "      cursor: pointer;\n",
              "      display: none;\n",
              "      fill: #1967D2;\n",
              "      height: 32px;\n",
              "      padding: 0 0 0 0;\n",
              "      width: 32px;\n",
              "    }\n",
              "\n",
              "    .colab-df-convert:hover {\n",
              "      background-color: #E2EBFA;\n",
              "      box-shadow: 0px 1px 2px rgba(60, 64, 67, 0.3), 0px 1px 3px 1px rgba(60, 64, 67, 0.15);\n",
              "      fill: #174EA6;\n",
              "    }\n",
              "\n",
              "    [theme=dark] .colab-df-convert {\n",
              "      background-color: #3B4455;\n",
              "      fill: #D2E3FC;\n",
              "    }\n",
              "\n",
              "    [theme=dark] .colab-df-convert:hover {\n",
              "      background-color: #434B5C;\n",
              "      box-shadow: 0px 1px 3px 1px rgba(0, 0, 0, 0.15);\n",
              "      filter: drop-shadow(0px 1px 2px rgba(0, 0, 0, 0.3));\n",
              "      fill: #FFFFFF;\n",
              "    }\n",
              "  </style>\n",
              "\n",
              "      <script>\n",
              "        const buttonEl =\n",
              "          document.querySelector('#df-85827b34-7a27-4ae5-a994-963cb410e0d4 button.colab-df-convert');\n",
              "        buttonEl.style.display =\n",
              "          google.colab.kernel.accessAllowed ? 'block' : 'none';\n",
              "\n",
              "        async function convertToInteractive(key) {\n",
              "          const element = document.querySelector('#df-85827b34-7a27-4ae5-a994-963cb410e0d4');\n",
              "          const dataTable =\n",
              "            await google.colab.kernel.invokeFunction('convertToInteractive',\n",
              "                                                     [key], {});\n",
              "          if (!dataTable) return;\n",
              "\n",
              "          const docLinkHtml = 'Like what you see? Visit the ' +\n",
              "            '<a target=\"_blank\" href=https://colab.research.google.com/notebooks/data_table.ipynb>data table notebook</a>'\n",
              "            + ' to learn more about interactive tables.';\n",
              "          element.innerHTML = '';\n",
              "          dataTable['output_type'] = 'display_data';\n",
              "          await google.colab.output.renderOutput(dataTable, element);\n",
              "          const docLink = document.createElement('div');\n",
              "          docLink.innerHTML = docLinkHtml;\n",
              "          element.appendChild(docLink);\n",
              "        }\n",
              "      </script>\n",
              "    </div>\n",
              "  </div>\n",
              "  "
            ]
          },
          "metadata": {},
          "execution_count": 167
        }
      ],
      "source": [
        "t_start = pd.to_datetime('2022-11-30')\n",
        "t_end = pd.to_datetime('2022-12-01')\n",
        "request = random_dates(t_start, t_end, NUM_REQUEST)\n",
        "\n",
        "df_request = pd.DataFrame({})\n",
        "df_request['Time'] = pd.DataFrame(request.sort_values())\n",
        "df_request"
      ]
    },
    {
      "cell_type": "markdown",
      "id": "66cf2ab9-810a-4499-868a-b67568df5a56",
      "metadata": {
        "id": "66cf2ab9-810a-4499-868a-b67568df5a56"
      },
      "source": [
        "### 고민해야할 것, Request 는 각 node에? 각 edge위에? 임의의 point에?"
      ]
    },
    {
      "cell_type": "code",
      "execution_count": null,
      "id": "a6cab4e7-957e-498c-8b11-84c838675836",
      "metadata": {
        "id": "a6cab4e7-957e-498c-8b11-84c838675836",
        "colab": {
          "base_uri": "https://localhost:8080/",
          "height": 669
        },
        "outputId": "82889394-4eaf-4264-f7dc-8490bf7c67eb"
      },
      "outputs": [
        {
          "output_type": "execute_result",
          "data": {
            "text/plain": [
              "                  Time startnode  endnode\n",
              "0  2022-11-30 04:34:36    node67  node117\n",
              "1  2022-11-30 05:35:56    node42  node162\n",
              "2  2022-11-30 06:04:41    node48  node156\n",
              "3  2022-11-30 06:12:12    node20   node22\n",
              "4  2022-11-30 07:51:52    node71  node198\n",
              "5  2022-11-30 09:03:00   node145  node113\n",
              "6  2022-11-30 09:55:49    node82  node113\n",
              "7  2022-11-30 14:03:41   node201  node103\n",
              "8  2022-11-30 14:09:47   node227  node229\n",
              "9  2022-11-30 15:02:42   node219  node165\n",
              "10 2022-11-30 15:21:25   node229  node215\n",
              "11 2022-11-30 15:24:00    node18   node77\n",
              "12 2022-11-30 15:46:52    node64   node61\n",
              "13 2022-11-30 17:16:57   node140   node57\n",
              "14 2022-11-30 17:36:25    node49  node242\n",
              "15 2022-11-30 19:06:47   node177  node200\n",
              "16 2022-11-30 20:16:17   node232  node236\n",
              "17 2022-11-30 20:46:03    node15  node115\n",
              "18 2022-11-30 22:31:37   node194    node4\n",
              "19 2022-11-30 23:19:58   node181  node206"
            ],
            "text/html": [
              "\n",
              "  <div id=\"df-eac56f64-11b1-49a3-a0a9-e7701fca82cd\">\n",
              "    <div class=\"colab-df-container\">\n",
              "      <div>\n",
              "<style scoped>\n",
              "    .dataframe tbody tr th:only-of-type {\n",
              "        vertical-align: middle;\n",
              "    }\n",
              "\n",
              "    .dataframe tbody tr th {\n",
              "        vertical-align: top;\n",
              "    }\n",
              "\n",
              "    .dataframe thead th {\n",
              "        text-align: right;\n",
              "    }\n",
              "</style>\n",
              "<table border=\"1\" class=\"dataframe\">\n",
              "  <thead>\n",
              "    <tr style=\"text-align: right;\">\n",
              "      <th></th>\n",
              "      <th>Time</th>\n",
              "      <th>startnode</th>\n",
              "      <th>endnode</th>\n",
              "    </tr>\n",
              "  </thead>\n",
              "  <tbody>\n",
              "    <tr>\n",
              "      <th>0</th>\n",
              "      <td>2022-11-30 04:34:36</td>\n",
              "      <td>node67</td>\n",
              "      <td>node117</td>\n",
              "    </tr>\n",
              "    <tr>\n",
              "      <th>1</th>\n",
              "      <td>2022-11-30 05:35:56</td>\n",
              "      <td>node42</td>\n",
              "      <td>node162</td>\n",
              "    </tr>\n",
              "    <tr>\n",
              "      <th>2</th>\n",
              "      <td>2022-11-30 06:04:41</td>\n",
              "      <td>node48</td>\n",
              "      <td>node156</td>\n",
              "    </tr>\n",
              "    <tr>\n",
              "      <th>3</th>\n",
              "      <td>2022-11-30 06:12:12</td>\n",
              "      <td>node20</td>\n",
              "      <td>node22</td>\n",
              "    </tr>\n",
              "    <tr>\n",
              "      <th>4</th>\n",
              "      <td>2022-11-30 07:51:52</td>\n",
              "      <td>node71</td>\n",
              "      <td>node198</td>\n",
              "    </tr>\n",
              "    <tr>\n",
              "      <th>5</th>\n",
              "      <td>2022-11-30 09:03:00</td>\n",
              "      <td>node145</td>\n",
              "      <td>node113</td>\n",
              "    </tr>\n",
              "    <tr>\n",
              "      <th>6</th>\n",
              "      <td>2022-11-30 09:55:49</td>\n",
              "      <td>node82</td>\n",
              "      <td>node113</td>\n",
              "    </tr>\n",
              "    <tr>\n",
              "      <th>7</th>\n",
              "      <td>2022-11-30 14:03:41</td>\n",
              "      <td>node201</td>\n",
              "      <td>node103</td>\n",
              "    </tr>\n",
              "    <tr>\n",
              "      <th>8</th>\n",
              "      <td>2022-11-30 14:09:47</td>\n",
              "      <td>node227</td>\n",
              "      <td>node229</td>\n",
              "    </tr>\n",
              "    <tr>\n",
              "      <th>9</th>\n",
              "      <td>2022-11-30 15:02:42</td>\n",
              "      <td>node219</td>\n",
              "      <td>node165</td>\n",
              "    </tr>\n",
              "    <tr>\n",
              "      <th>10</th>\n",
              "      <td>2022-11-30 15:21:25</td>\n",
              "      <td>node229</td>\n",
              "      <td>node215</td>\n",
              "    </tr>\n",
              "    <tr>\n",
              "      <th>11</th>\n",
              "      <td>2022-11-30 15:24:00</td>\n",
              "      <td>node18</td>\n",
              "      <td>node77</td>\n",
              "    </tr>\n",
              "    <tr>\n",
              "      <th>12</th>\n",
              "      <td>2022-11-30 15:46:52</td>\n",
              "      <td>node64</td>\n",
              "      <td>node61</td>\n",
              "    </tr>\n",
              "    <tr>\n",
              "      <th>13</th>\n",
              "      <td>2022-11-30 17:16:57</td>\n",
              "      <td>node140</td>\n",
              "      <td>node57</td>\n",
              "    </tr>\n",
              "    <tr>\n",
              "      <th>14</th>\n",
              "      <td>2022-11-30 17:36:25</td>\n",
              "      <td>node49</td>\n",
              "      <td>node242</td>\n",
              "    </tr>\n",
              "    <tr>\n",
              "      <th>15</th>\n",
              "      <td>2022-11-30 19:06:47</td>\n",
              "      <td>node177</td>\n",
              "      <td>node200</td>\n",
              "    </tr>\n",
              "    <tr>\n",
              "      <th>16</th>\n",
              "      <td>2022-11-30 20:16:17</td>\n",
              "      <td>node232</td>\n",
              "      <td>node236</td>\n",
              "    </tr>\n",
              "    <tr>\n",
              "      <th>17</th>\n",
              "      <td>2022-11-30 20:46:03</td>\n",
              "      <td>node15</td>\n",
              "      <td>node115</td>\n",
              "    </tr>\n",
              "    <tr>\n",
              "      <th>18</th>\n",
              "      <td>2022-11-30 22:31:37</td>\n",
              "      <td>node194</td>\n",
              "      <td>node4</td>\n",
              "    </tr>\n",
              "    <tr>\n",
              "      <th>19</th>\n",
              "      <td>2022-11-30 23:19:58</td>\n",
              "      <td>node181</td>\n",
              "      <td>node206</td>\n",
              "    </tr>\n",
              "  </tbody>\n",
              "</table>\n",
              "</div>\n",
              "      <button class=\"colab-df-convert\" onclick=\"convertToInteractive('df-eac56f64-11b1-49a3-a0a9-e7701fca82cd')\"\n",
              "              title=\"Convert this dataframe to an interactive table.\"\n",
              "              style=\"display:none;\">\n",
              "        \n",
              "  <svg xmlns=\"http://www.w3.org/2000/svg\" height=\"24px\"viewBox=\"0 0 24 24\"\n",
              "       width=\"24px\">\n",
              "    <path d=\"M0 0h24v24H0V0z\" fill=\"none\"/>\n",
              "    <path d=\"M18.56 5.44l.94 2.06.94-2.06 2.06-.94-2.06-.94-.94-2.06-.94 2.06-2.06.94zm-11 1L8.5 8.5l.94-2.06 2.06-.94-2.06-.94L8.5 2.5l-.94 2.06-2.06.94zm10 10l.94 2.06.94-2.06 2.06-.94-2.06-.94-.94-2.06-.94 2.06-2.06.94z\"/><path d=\"M17.41 7.96l-1.37-1.37c-.4-.4-.92-.59-1.43-.59-.52 0-1.04.2-1.43.59L10.3 9.45l-7.72 7.72c-.78.78-.78 2.05 0 2.83L4 21.41c.39.39.9.59 1.41.59.51 0 1.02-.2 1.41-.59l7.78-7.78 2.81-2.81c.8-.78.8-2.07 0-2.86zM5.41 20L4 18.59l7.72-7.72 1.47 1.35L5.41 20z\"/>\n",
              "  </svg>\n",
              "      </button>\n",
              "      \n",
              "  <style>\n",
              "    .colab-df-container {\n",
              "      display:flex;\n",
              "      flex-wrap:wrap;\n",
              "      gap: 12px;\n",
              "    }\n",
              "\n",
              "    .colab-df-convert {\n",
              "      background-color: #E8F0FE;\n",
              "      border: none;\n",
              "      border-radius: 50%;\n",
              "      cursor: pointer;\n",
              "      display: none;\n",
              "      fill: #1967D2;\n",
              "      height: 32px;\n",
              "      padding: 0 0 0 0;\n",
              "      width: 32px;\n",
              "    }\n",
              "\n",
              "    .colab-df-convert:hover {\n",
              "      background-color: #E2EBFA;\n",
              "      box-shadow: 0px 1px 2px rgba(60, 64, 67, 0.3), 0px 1px 3px 1px rgba(60, 64, 67, 0.15);\n",
              "      fill: #174EA6;\n",
              "    }\n",
              "\n",
              "    [theme=dark] .colab-df-convert {\n",
              "      background-color: #3B4455;\n",
              "      fill: #D2E3FC;\n",
              "    }\n",
              "\n",
              "    [theme=dark] .colab-df-convert:hover {\n",
              "      background-color: #434B5C;\n",
              "      box-shadow: 0px 1px 3px 1px rgba(0, 0, 0, 0.15);\n",
              "      filter: drop-shadow(0px 1px 2px rgba(0, 0, 0, 0.3));\n",
              "      fill: #FFFFFF;\n",
              "    }\n",
              "  </style>\n",
              "\n",
              "      <script>\n",
              "        const buttonEl =\n",
              "          document.querySelector('#df-eac56f64-11b1-49a3-a0a9-e7701fca82cd button.colab-df-convert');\n",
              "        buttonEl.style.display =\n",
              "          google.colab.kernel.accessAllowed ? 'block' : 'none';\n",
              "\n",
              "        async function convertToInteractive(key) {\n",
              "          const element = document.querySelector('#df-eac56f64-11b1-49a3-a0a9-e7701fca82cd');\n",
              "          const dataTable =\n",
              "            await google.colab.kernel.invokeFunction('convertToInteractive',\n",
              "                                                     [key], {});\n",
              "          if (!dataTable) return;\n",
              "\n",
              "          const docLinkHtml = 'Like what you see? Visit the ' +\n",
              "            '<a target=\"_blank\" href=https://colab.research.google.com/notebooks/data_table.ipynb>data table notebook</a>'\n",
              "            + ' to learn more about interactive tables.';\n",
              "          element.innerHTML = '';\n",
              "          dataTable['output_type'] = 'display_data';\n",
              "          await google.colab.output.renderOutput(dataTable, element);\n",
              "          const docLink = document.createElement('div');\n",
              "          docLink.innerHTML = docLinkHtml;\n",
              "          element.appendChild(docLink);\n",
              "        }\n",
              "      </script>\n",
              "    </div>\n",
              "  </div>\n",
              "  "
            ]
          },
          "metadata": {},
          "execution_count": 168
        }
      ],
      "source": [
        "# 예1\n",
        "df_request_with_node = df_request.copy()\n",
        "df_request_with_node['startnode'] = pd.DataFrame(['node'+str(random.randint(0,250)) for _ in range(NUM_REQUEST)])\n",
        "df_request_with_node['endnode'] = pd.DataFrame(['node'+str(random.randint(0,250)) for _ in range(NUM_REQUEST)])\n",
        "df_request_with_node"
      ]
    },
    {
      "cell_type": "markdown",
      "source": [
        "Request : each edge 위에"
      ],
      "metadata": {
        "id": "M6yYP_PC4Kph"
      },
      "id": "M6yYP_PC4Kph"
    },
    {
      "cell_type": "code",
      "execution_count": null,
      "id": "f6a48532-aa64-4df0-8b20-2fe867011a15",
      "metadata": {
        "id": "f6a48532-aa64-4df0-8b20-2fe867011a15",
        "colab": {
          "base_uri": "https://localhost:8080/",
          "height": 669
        },
        "outputId": "9b25aabb-7c7d-4139-97fe-0c3ef4a9eef3"
      },
      "outputs": [
        {
          "output_type": "execute_result",
          "data": {
            "text/plain": [
              "                  Time startedge startpart  endedge endpart\n",
              "0  2022-11-30 04:34:36   edge310       0.2   edge33     0.6\n",
              "1  2022-11-30 05:35:56   edge319       0.3  edge390     0.3\n",
              "2  2022-11-30 06:04:41    edge12       0.8  edge376     0.9\n",
              "3  2022-11-30 06:12:12   edge258       0.7  edge499     0.2\n",
              "4  2022-11-30 07:51:52    edge60       0.4   edge95     0.7\n",
              "5  2022-11-30 09:03:00   edge524       0.1  edge225     0.0\n",
              "6  2022-11-30 09:55:49   edge165       0.4  edge280     0.1\n",
              "7  2022-11-30 14:03:41   edge501       0.4  edge384     0.9\n",
              "8  2022-11-30 14:09:47    edge22       0.8  edge171     0.6\n",
              "9  2022-11-30 15:02:42    edge37       0.9  edge444     0.4\n",
              "10 2022-11-30 15:21:25     edge9       0.5  edge283     0.7\n",
              "11 2022-11-30 15:24:00   edge153       0.3  edge439     0.2\n",
              "12 2022-11-30 15:46:52    edge48       0.2  edge288     0.4\n",
              "13 2022-11-30 17:16:57   edge599       0.5   edge84     0.9\n",
              "14 2022-11-30 17:36:25   edge306       0.6   edge84     0.3\n",
              "15 2022-11-30 19:06:47   edge126       0.7  edge383     0.5\n",
              "16 2022-11-30 20:16:17   edge184       0.1  edge192     0.9\n",
              "17 2022-11-30 20:46:03   edge608       0.4  edge603     0.9\n",
              "18 2022-11-30 22:31:37    edge13       0.7  edge516     0.3\n",
              "19 2022-11-30 23:19:58    edge37       0.7  edge195     0.7"
            ],
            "text/html": [
              "\n",
              "  <div id=\"df-6fd48a7a-73be-47ef-a415-d14269f18730\">\n",
              "    <div class=\"colab-df-container\">\n",
              "      <div>\n",
              "<style scoped>\n",
              "    .dataframe tbody tr th:only-of-type {\n",
              "        vertical-align: middle;\n",
              "    }\n",
              "\n",
              "    .dataframe tbody tr th {\n",
              "        vertical-align: top;\n",
              "    }\n",
              "\n",
              "    .dataframe thead th {\n",
              "        text-align: right;\n",
              "    }\n",
              "</style>\n",
              "<table border=\"1\" class=\"dataframe\">\n",
              "  <thead>\n",
              "    <tr style=\"text-align: right;\">\n",
              "      <th></th>\n",
              "      <th>Time</th>\n",
              "      <th>startedge</th>\n",
              "      <th>startpart</th>\n",
              "      <th>endedge</th>\n",
              "      <th>endpart</th>\n",
              "    </tr>\n",
              "  </thead>\n",
              "  <tbody>\n",
              "    <tr>\n",
              "      <th>0</th>\n",
              "      <td>2022-11-30 04:34:36</td>\n",
              "      <td>edge310</td>\n",
              "      <td>0.2</td>\n",
              "      <td>edge33</td>\n",
              "      <td>0.6</td>\n",
              "    </tr>\n",
              "    <tr>\n",
              "      <th>1</th>\n",
              "      <td>2022-11-30 05:35:56</td>\n",
              "      <td>edge319</td>\n",
              "      <td>0.3</td>\n",
              "      <td>edge390</td>\n",
              "      <td>0.3</td>\n",
              "    </tr>\n",
              "    <tr>\n",
              "      <th>2</th>\n",
              "      <td>2022-11-30 06:04:41</td>\n",
              "      <td>edge12</td>\n",
              "      <td>0.8</td>\n",
              "      <td>edge376</td>\n",
              "      <td>0.9</td>\n",
              "    </tr>\n",
              "    <tr>\n",
              "      <th>3</th>\n",
              "      <td>2022-11-30 06:12:12</td>\n",
              "      <td>edge258</td>\n",
              "      <td>0.7</td>\n",
              "      <td>edge499</td>\n",
              "      <td>0.2</td>\n",
              "    </tr>\n",
              "    <tr>\n",
              "      <th>4</th>\n",
              "      <td>2022-11-30 07:51:52</td>\n",
              "      <td>edge60</td>\n",
              "      <td>0.4</td>\n",
              "      <td>edge95</td>\n",
              "      <td>0.7</td>\n",
              "    </tr>\n",
              "    <tr>\n",
              "      <th>5</th>\n",
              "      <td>2022-11-30 09:03:00</td>\n",
              "      <td>edge524</td>\n",
              "      <td>0.1</td>\n",
              "      <td>edge225</td>\n",
              "      <td>0.0</td>\n",
              "    </tr>\n",
              "    <tr>\n",
              "      <th>6</th>\n",
              "      <td>2022-11-30 09:55:49</td>\n",
              "      <td>edge165</td>\n",
              "      <td>0.4</td>\n",
              "      <td>edge280</td>\n",
              "      <td>0.1</td>\n",
              "    </tr>\n",
              "    <tr>\n",
              "      <th>7</th>\n",
              "      <td>2022-11-30 14:03:41</td>\n",
              "      <td>edge501</td>\n",
              "      <td>0.4</td>\n",
              "      <td>edge384</td>\n",
              "      <td>0.9</td>\n",
              "    </tr>\n",
              "    <tr>\n",
              "      <th>8</th>\n",
              "      <td>2022-11-30 14:09:47</td>\n",
              "      <td>edge22</td>\n",
              "      <td>0.8</td>\n",
              "      <td>edge171</td>\n",
              "      <td>0.6</td>\n",
              "    </tr>\n",
              "    <tr>\n",
              "      <th>9</th>\n",
              "      <td>2022-11-30 15:02:42</td>\n",
              "      <td>edge37</td>\n",
              "      <td>0.9</td>\n",
              "      <td>edge444</td>\n",
              "      <td>0.4</td>\n",
              "    </tr>\n",
              "    <tr>\n",
              "      <th>10</th>\n",
              "      <td>2022-11-30 15:21:25</td>\n",
              "      <td>edge9</td>\n",
              "      <td>0.5</td>\n",
              "      <td>edge283</td>\n",
              "      <td>0.7</td>\n",
              "    </tr>\n",
              "    <tr>\n",
              "      <th>11</th>\n",
              "      <td>2022-11-30 15:24:00</td>\n",
              "      <td>edge153</td>\n",
              "      <td>0.3</td>\n",
              "      <td>edge439</td>\n",
              "      <td>0.2</td>\n",
              "    </tr>\n",
              "    <tr>\n",
              "      <th>12</th>\n",
              "      <td>2022-11-30 15:46:52</td>\n",
              "      <td>edge48</td>\n",
              "      <td>0.2</td>\n",
              "      <td>edge288</td>\n",
              "      <td>0.4</td>\n",
              "    </tr>\n",
              "    <tr>\n",
              "      <th>13</th>\n",
              "      <td>2022-11-30 17:16:57</td>\n",
              "      <td>edge599</td>\n",
              "      <td>0.5</td>\n",
              "      <td>edge84</td>\n",
              "      <td>0.9</td>\n",
              "    </tr>\n",
              "    <tr>\n",
              "      <th>14</th>\n",
              "      <td>2022-11-30 17:36:25</td>\n",
              "      <td>edge306</td>\n",
              "      <td>0.6</td>\n",
              "      <td>edge84</td>\n",
              "      <td>0.3</td>\n",
              "    </tr>\n",
              "    <tr>\n",
              "      <th>15</th>\n",
              "      <td>2022-11-30 19:06:47</td>\n",
              "      <td>edge126</td>\n",
              "      <td>0.7</td>\n",
              "      <td>edge383</td>\n",
              "      <td>0.5</td>\n",
              "    </tr>\n",
              "    <tr>\n",
              "      <th>16</th>\n",
              "      <td>2022-11-30 20:16:17</td>\n",
              "      <td>edge184</td>\n",
              "      <td>0.1</td>\n",
              "      <td>edge192</td>\n",
              "      <td>0.9</td>\n",
              "    </tr>\n",
              "    <tr>\n",
              "      <th>17</th>\n",
              "      <td>2022-11-30 20:46:03</td>\n",
              "      <td>edge608</td>\n",
              "      <td>0.4</td>\n",
              "      <td>edge603</td>\n",
              "      <td>0.9</td>\n",
              "    </tr>\n",
              "    <tr>\n",
              "      <th>18</th>\n",
              "      <td>2022-11-30 22:31:37</td>\n",
              "      <td>edge13</td>\n",
              "      <td>0.7</td>\n",
              "      <td>edge516</td>\n",
              "      <td>0.3</td>\n",
              "    </tr>\n",
              "    <tr>\n",
              "      <th>19</th>\n",
              "      <td>2022-11-30 23:19:58</td>\n",
              "      <td>edge37</td>\n",
              "      <td>0.7</td>\n",
              "      <td>edge195</td>\n",
              "      <td>0.7</td>\n",
              "    </tr>\n",
              "  </tbody>\n",
              "</table>\n",
              "</div>\n",
              "      <button class=\"colab-df-convert\" onclick=\"convertToInteractive('df-6fd48a7a-73be-47ef-a415-d14269f18730')\"\n",
              "              title=\"Convert this dataframe to an interactive table.\"\n",
              "              style=\"display:none;\">\n",
              "        \n",
              "  <svg xmlns=\"http://www.w3.org/2000/svg\" height=\"24px\"viewBox=\"0 0 24 24\"\n",
              "       width=\"24px\">\n",
              "    <path d=\"M0 0h24v24H0V0z\" fill=\"none\"/>\n",
              "    <path d=\"M18.56 5.44l.94 2.06.94-2.06 2.06-.94-2.06-.94-.94-2.06-.94 2.06-2.06.94zm-11 1L8.5 8.5l.94-2.06 2.06-.94-2.06-.94L8.5 2.5l-.94 2.06-2.06.94zm10 10l.94 2.06.94-2.06 2.06-.94-2.06-.94-.94-2.06-.94 2.06-2.06.94z\"/><path d=\"M17.41 7.96l-1.37-1.37c-.4-.4-.92-.59-1.43-.59-.52 0-1.04.2-1.43.59L10.3 9.45l-7.72 7.72c-.78.78-.78 2.05 0 2.83L4 21.41c.39.39.9.59 1.41.59.51 0 1.02-.2 1.41-.59l7.78-7.78 2.81-2.81c.8-.78.8-2.07 0-2.86zM5.41 20L4 18.59l7.72-7.72 1.47 1.35L5.41 20z\"/>\n",
              "  </svg>\n",
              "      </button>\n",
              "      \n",
              "  <style>\n",
              "    .colab-df-container {\n",
              "      display:flex;\n",
              "      flex-wrap:wrap;\n",
              "      gap: 12px;\n",
              "    }\n",
              "\n",
              "    .colab-df-convert {\n",
              "      background-color: #E8F0FE;\n",
              "      border: none;\n",
              "      border-radius: 50%;\n",
              "      cursor: pointer;\n",
              "      display: none;\n",
              "      fill: #1967D2;\n",
              "      height: 32px;\n",
              "      padding: 0 0 0 0;\n",
              "      width: 32px;\n",
              "    }\n",
              "\n",
              "    .colab-df-convert:hover {\n",
              "      background-color: #E2EBFA;\n",
              "      box-shadow: 0px 1px 2px rgba(60, 64, 67, 0.3), 0px 1px 3px 1px rgba(60, 64, 67, 0.15);\n",
              "      fill: #174EA6;\n",
              "    }\n",
              "\n",
              "    [theme=dark] .colab-df-convert {\n",
              "      background-color: #3B4455;\n",
              "      fill: #D2E3FC;\n",
              "    }\n",
              "\n",
              "    [theme=dark] .colab-df-convert:hover {\n",
              "      background-color: #434B5C;\n",
              "      box-shadow: 0px 1px 3px 1px rgba(0, 0, 0, 0.15);\n",
              "      filter: drop-shadow(0px 1px 2px rgba(0, 0, 0, 0.3));\n",
              "      fill: #FFFFFF;\n",
              "    }\n",
              "  </style>\n",
              "\n",
              "      <script>\n",
              "        const buttonEl =\n",
              "          document.querySelector('#df-6fd48a7a-73be-47ef-a415-d14269f18730 button.colab-df-convert');\n",
              "        buttonEl.style.display =\n",
              "          google.colab.kernel.accessAllowed ? 'block' : 'none';\n",
              "\n",
              "        async function convertToInteractive(key) {\n",
              "          const element = document.querySelector('#df-6fd48a7a-73be-47ef-a415-d14269f18730');\n",
              "          const dataTable =\n",
              "            await google.colab.kernel.invokeFunction('convertToInteractive',\n",
              "                                                     [key], {});\n",
              "          if (!dataTable) return;\n",
              "\n",
              "          const docLinkHtml = 'Like what you see? Visit the ' +\n",
              "            '<a target=\"_blank\" href=https://colab.research.google.com/notebooks/data_table.ipynb>data table notebook</a>'\n",
              "            + ' to learn more about interactive tables.';\n",
              "          element.innerHTML = '';\n",
              "          dataTable['output_type'] = 'display_data';\n",
              "          await google.colab.output.renderOutput(dataTable, element);\n",
              "          const docLink = document.createElement('div');\n",
              "          docLink.innerHTML = docLinkHtml;\n",
              "          element.appendChild(docLink);\n",
              "        }\n",
              "      </script>\n",
              "    </div>\n",
              "  </div>\n",
              "  "
            ]
          },
          "metadata": {},
          "execution_count": 169
        }
      ],
      "source": [
        "# 예2)\n",
        "df_request_with_edge = df_request.copy()\n",
        "df_request_with_edge['startedge'] = pd.DataFrame(['edge'+str(random.randint(0,630)) for _ in range(NUM_REQUEST)])\n",
        "df_request_with_edge['startpart'] = pd.DataFrame(['%0.1f'%random.random() for _ in range(NUM_REQUEST)])\n",
        "df_request_with_edge['endedge'] = pd.DataFrame(['edge'+str(random.randint(0,630)) for _ in range(NUM_REQUEST)])\n",
        "df_request_with_edge['endpart'] = pd.DataFrame(['%0.1f'%random.random() for _ in range(NUM_REQUEST)])\n",
        "df_request_with_edge"
      ]
    },
    {
      "cell_type": "code",
      "execution_count": null,
      "id": "6fd59c39",
      "metadata": {
        "id": "6fd59c39",
        "colab": {
          "base_uri": "https://localhost:8080/",
          "height": 37
        },
        "outputId": "f35064b5-f47c-4f29-fd0b-0ae24c9e0618"
      },
      "outputs": [
        {
          "output_type": "execute_result",
          "data": {
            "text/plain": [
              "'edge310'"
            ],
            "application/vnd.google.colaboratory.intrinsic+json": {
              "type": "string"
            }
          },
          "metadata": {},
          "execution_count": 170
        }
      ],
      "source": [
        "df_request_with_edge['startedge'][0]"
      ]
    },
    {
      "cell_type": "code",
      "execution_count": null,
      "id": "11e6574b",
      "metadata": {
        "id": "11e6574b",
        "colab": {
          "base_uri": "https://localhost:8080/"
        },
        "outputId": "3c94bb37-0846-44e4-c160-ea0be5ec15d7"
      },
      "outputs": [
        {
          "output_type": "stream",
          "name": "stdout",
          "text": [
            "123\n",
            "123\n"
          ]
        }
      ],
      "source": [
        "a = 'abcd123'\n",
        "print(a[4:])\n",
        "print(int(a[4:]))"
      ]
    },
    {
      "cell_type": "markdown",
      "id": "59665678-5c33-4b53-81b8-276e695742e1",
      "metadata": {
        "id": "59665678-5c33-4b53-81b8-276e695742e1"
      },
      "source": [
        "### 이와 같이 request 에 필요한 데이터를 고민해서, 추가할 필요. 우선은 위치만 결정하고 거리로 점수 정해서 풀어보고, 추가적으로 확장"
      ]
    },
    {
      "cell_type": "markdown",
      "id": "7c84758d",
      "metadata": {
        "id": "7c84758d"
      },
      "source": [
        "일단 필요한게 수요 예측\n",
        "그리고 수요예측과 거리에 따른 reward."
      ]
    },
    {
      "cell_type": "code",
      "execution_count": null,
      "id": "5d644061-a49d-4e28-a3d8-cc7dc16c9984",
      "metadata": {
        "id": "5d644061-a49d-4e28-a3d8-cc7dc16c9984",
        "colab": {
          "base_uri": "https://localhost:8080/"
        },
        "outputId": "7092d7a9-1cd4-4f43-c69b-9a1418d87002"
      },
      "outputs": [
        {
          "output_type": "stream",
          "name": "stdout",
          "text": [
            "[[36.  3. 21.  3.  1.  3.  3. 28.  2.  1.]\n",
            " [ 2.  2. 25.  1.  1. 37. 16.  4.  8.  5.]\n",
            " [ 1.  6.  2.  3. 32.  7.  8.  4. 34.  3.]\n",
            " [10. 24.  8.  4.  6.  0.  1.  5. 38.  4.]\n",
            " [25.  4.  4.  1.  0.  1. 45.  7. 10.  3.]\n",
            " [ 5.  8. 12. 10. 13. 11. 15.  8.  6. 11.]\n",
            " [17.  9. 12. 20. 14.  1.  7.  0.  5. 15.]\n",
            " [ 6.  0. 24.  2.  8. 21.  4.  1. 12. 22.]\n",
            " [10.  2. 26. 10.  6. 21.  4.  3. 11.  7.]\n",
            " [ 8. 13. 13.  2. 24.  1. 15.  5. 10.  9.]]\n"
          ]
        }
      ],
      "source": [
        "# LIST 1. 수요 예측하는 list 만들기\n",
        "# 전체 스쿠터 댓수를 유지하면서\n",
        "# 전체 edge 갯수 = 250\n",
        "# Scoopter number is 100\n",
        "# STATIONS = 10\n",
        "NUM_REQUEST = 20\n",
        "N = 100 \n",
        "STATIONS = 10\n",
        "Dem = []\n",
        "Demand = []\n",
        "for i in range(NUM_REQUEST):\n",
        "    for j in range(STATIONS):\n",
        "        demands = N * np.random.default_rng().dirichlet(np.ones(STATIONS),size=1)\n",
        "        demands = [np.round(v) for v in demands]\n",
        "        Dem.append(demands)\n",
        "    Dem_ = np.asarray(Dem).reshape(-1,STATIONS)\n",
        "    Dem = []\n",
        "    Demand.append(Dem_)\n",
        "Demand = np.array(Demand)\n",
        "# 시간대에 따른 수요 <- 재배치에 쓰일 예정\n",
        "print(Demand[2])"
      ]
    },
    {
      "cell_type": "code",
      "execution_count": null,
      "id": "52a572fc",
      "metadata": {
        "id": "52a572fc"
      },
      "outputs": [],
      "source": [
        "idx = np.random.choice(len(Node),STATIONS)\n",
        "stations = Node[idx]\n",
        "stations_yx = Node_yx[idx]\n"
      ]
    },
    {
      "cell_type": "code",
      "source": [
        "stations"
      ],
      "metadata": {
        "colab": {
          "base_uri": "https://localhost:8080/"
        },
        "id": "npQqTG2sDV1P",
        "outputId": "0fc339ae-ad28-418e-e26a-5abe9ae64162"
      },
      "id": "npQqTG2sDV1P",
      "execution_count": null,
      "outputs": [
        {
          "output_type": "execute_result",
          "data": {
            "text/plain": [
              "array(['2293592721', '352963031', '2293592722', '2331416522',\n",
              "       '2294278714', '2331416652', '4627973422', '2294292531',\n",
              "       '4937770619', '5437915825'], dtype='<U30')"
            ]
          },
          "metadata": {},
          "execution_count": 174
        }
      ]
    },
    {
      "cell_type": "code",
      "execution_count": null,
      "id": "4ab1f9e3",
      "metadata": {
        "id": "4ab1f9e3"
      },
      "outputs": [],
      "source": [
        "from haversine import haversine, Unit\n",
        "# osmid1 , osmid2 <- should be string input.\n",
        "def distances(osmid1,osmid2):\n",
        "    # osmid1 : start node\n",
        "    # osmid2 : destination node\n",
        "    start_idx = np.where(Node == osmid1)\n",
        "    start_yx = Node_yx[start_idx[0][0]]\n",
        "    start_yx = list(map(float,start_yx))\n",
        "    end_idx = np.where(Node == osmid2)\n",
        "    end_yx = Node_yx[end_idx[0][0]]\n",
        "    end_yx = list(map(float,end_yx))\n",
        "    distance = haversine(start_yx, end_yx, unit = 'm')\n",
        "    return distance"
      ]
    },
    {
      "cell_type": "code",
      "source": [
        "distances('277875336','277875336')"
      ],
      "metadata": {
        "colab": {
          "base_uri": "https://localhost:8080/"
        },
        "id": "86zkTkpyGPZQ",
        "outputId": "af77b47f-38b0-49b8-c051-6c8744ec5744"
      },
      "id": "86zkTkpyGPZQ",
      "execution_count": null,
      "outputs": [
        {
          "output_type": "execute_result",
          "data": {
            "text/plain": [
              "0.0"
            ]
          },
          "metadata": {},
          "execution_count": 176
        }
      ]
    },
    {
      "cell_type": "code",
      "source": [
        "alpha = df_request_with_edge['endpart']\n",
        "alpha[0]"
      ],
      "metadata": {
        "colab": {
          "base_uri": "https://localhost:8080/",
          "height": 37
        },
        "id": "NIlum083LLxP",
        "outputId": "611adfc0-e091-4957-f7cd-18d30767db88"
      },
      "id": "NIlum083LLxP",
      "execution_count": null,
      "outputs": [
        {
          "output_type": "execute_result",
          "data": {
            "text/plain": [
              "'0.6'"
            ],
            "application/vnd.google.colaboratory.intrinsic+json": {
              "type": "string"
            }
          },
          "metadata": {},
          "execution_count": 177
        }
      ]
    },
    {
      "cell_type": "code",
      "source": [
        "edge_len[527]"
      ],
      "metadata": {
        "colab": {
          "base_uri": "https://localhost:8080/"
        },
        "id": "YFCe9DbfLhar",
        "outputId": "a9abb8e5-8ef2-4b0a-8ff8-7ce05cc2014c"
      },
      "id": "YFCe9DbfLhar",
      "execution_count": null,
      "outputs": [
        {
          "output_type": "execute_result",
          "data": {
            "text/plain": [
              "32.134"
            ]
          },
          "metadata": {},
          "execution_count": 178
        }
      ]
    },
    {
      "cell_type": "code",
      "source": [
        "float(alpha[0]) * edge_len[527]"
      ],
      "metadata": {
        "colab": {
          "base_uri": "https://localhost:8080/"
        },
        "id": "U97lTmdfLlKU",
        "outputId": "04aafd2d-f8e1-4d80-9e3c-1d41665397fe"
      },
      "id": "U97lTmdfLlKU",
      "execution_count": null,
      "outputs": [
        {
          "output_type": "execute_result",
          "data": {
            "text/plain": [
              "19.2804"
            ]
          },
          "metadata": {},
          "execution_count": 179
        }
      ]
    },
    {
      "cell_type": "markdown",
      "id": "34072934",
      "metadata": {
        "id": "34072934"
      },
      "source": [
        "Finding the nearest station\n",
        "1. END edge 확인\n",
        "2. END edge에 해당하는 시작 node와 끝 node를 추출.\n",
        "3. 시작 node에 가장 가까운 station 찾기, 끝 node에 가장 가까운 station 찾기 <- cost 함수 쓰기\n",
        "4. 시작 node에서 가장 가까운 staiton 까지의 거리 + alpha * length VS 끝 node에서 가장 가까운 staiton 까지의 거리 + (1-alpha)* length"
      ]
    },
    {
      "cell_type": "code",
      "execution_count": 195,
      "id": "1e28abc1",
      "metadata": {
        "id": "1e28abc1",
        "colab": {
          "base_uri": "https://localhost:8080/"
        },
        "outputId": "45c1ecc7-4113-46c6-b6e8-d3a572f6c0fa"
      },
      "outputs": [
        {
          "output_type": "stream",
          "name": "stdout",
          "text": [
            "33\n",
            "5437915825\n",
            "5437915825\n",
            "Pass through end node\n",
            "5437915825\n",
            "189.3386846407242\n",
            "390\n",
            "2331416652\n",
            "2331416652\n",
            "Pass through start node\n",
            "2331416652\n",
            "198.3567271463724\n",
            "376\n",
            "2294278714\n",
            "2294278714\n",
            "Pass through end node\n",
            "2294278714\n",
            "8.427099999999998\n",
            "499\n",
            "5437915825\n",
            "5437915825\n",
            "Pass through end node\n",
            "5437915825\n",
            "315.08547399348856\n",
            "95\n",
            "2294278714\n",
            "2294278714\n",
            "Pass through end node\n",
            "2294278714\n",
            "416.56816334069555\n",
            "225\n",
            "2294278714\n",
            "2294278714\n",
            "Pass through start node\n",
            "2294278714\n",
            "144.93044441894762\n",
            "280\n",
            "4627973422\n",
            "4627973422\n",
            "Pass through start node\n",
            "4627973422\n",
            "274.44535544421984\n",
            "384\n",
            "2331416652\n",
            "2331416652\n",
            "Pass through end node\n",
            "2331416652\n",
            "137.02088480882645\n",
            "171\n",
            "352963031\n",
            "352963031\n",
            "Pass through start node\n",
            "352963031\n",
            "214.10361204247894\n",
            "444\n",
            "5437915825\n",
            "5437915825\n",
            "Pass through start node\n",
            "5437915825\n",
            "171.6793044995436\n",
            "283\n",
            "4627973422\n",
            "4627973422\n",
            "Pass through start node\n",
            "4627973422\n",
            "304.7897222318408\n",
            "439\n",
            "5437915825\n",
            "5437915825\n",
            "Pass through end node\n",
            "5437915825\n",
            "126.54247138154321\n",
            "288\n",
            "4627973422\n",
            "4627973422\n",
            "Pass through start node\n",
            "4627973422\n",
            "164.77794995101112\n",
            "84\n",
            "352963031\n",
            "352963031\n",
            "Pass through end node\n",
            "352963031\n",
            "307.10926411017107\n",
            "84\n",
            "352963031\n",
            "352963031\n",
            "Pass through start node\n",
            "352963031\n",
            "317.2881975108713\n",
            "383\n",
            "2331416652\n",
            "2331416652\n",
            "Pass through end node\n",
            "2331416652\n",
            "205.3034825522249\n",
            "192\n",
            "352963031\n",
            "352963031\n",
            "Pass through end node\n",
            "352963031\n",
            "346.2738466405596\n",
            "603\n",
            "4627973422\n",
            "4627973422\n",
            "Pass through end node\n",
            "4627973422\n",
            "411.2759720099688\n",
            "516\n",
            "4627973422\n",
            "352963031\n",
            "Pass through start node\n",
            "4627973422\n",
            "133.48753320459528\n",
            "195\n",
            "352963031\n",
            "352963031\n",
            "Pass through end node\n",
            "352963031\n",
            "341.51302760478706\n"
          ]
        }
      ],
      "source": [
        "alpha = df_request_with_edge['endpart']\n",
        "alpha[0]\n",
        "for k in range(NUM_REQUEST):\n",
        "  # Index of Endedge\n",
        "  idx = df_request_with_edge['endedge'][k][4:] \n",
        "  idx = int(idx)\n",
        "  print(idx)\n",
        "  # Start node of endedge\n",
        "  s_node_end_osmid = edge_u[idx]\n",
        "  s_node_end_sta = []\n",
        "  for i in range(STATIONS):\n",
        "    # distances // Input : string, string / Output : float\n",
        "    a = distances(s_node_end_osmid,stations[i])\n",
        "    b = float(alpha[k]) * edge_len[idx]\n",
        "    s_node_end_sta.append(a + b)\n",
        "    s_node_end_sta_candidate_idx = np.argmin(s_node_end_sta)\n",
        "  print(stations[s_node_end_sta_candidate_idx])\n",
        "  # End node of endedge\n",
        "  e_node_end_osmid = edge_v[idx]\n",
        "  e_node_end_sta = []\n",
        "  for i in range(STATIONS):\n",
        "    # Distances // Input : string, string / Output : float\n",
        "    a = distances(e_node_end_osmid, stations[i])\n",
        "    b = (1.0 - float(alpha[k])) * edge_len[idx]\n",
        "    e_node_end_sta.append(a + b)\n",
        "    e_node_end_sta_candidate_idx = np.argmin(e_node_end_sta)\n",
        "  print(stations[e_node_end_sta_candidate_idx])\n",
        "  if np.min(e_node_end_sta) <= np.min(s_node_end_sta):\n",
        "    comeback_stations = stations[e_node_end_sta_candidate_idx]\n",
        "    comeback_benefit = np.min(e_node_end_sta)\n",
        "    print('Pass through end node')\n",
        "  else:\n",
        "    comeback_stations = stations[s_node_end_sta_candidate_idx]\n",
        "    comeback_benefit = np.min(s_node_end_sta)\n",
        "    print('Pass through start node')\n",
        "  print(comeback_stations)\n",
        "  print(comeback_benefit)\n"
      ]
    },
    {
      "cell_type": "code",
      "source": [
        "stations[9]"
      ],
      "metadata": {
        "colab": {
          "base_uri": "https://localhost:8080/",
          "height": 37
        },
        "id": "ThCMIaLN2Fw1",
        "outputId": "b873c913-9ea3-4c0c-b002-46fdf5abea5b"
      },
      "id": "ThCMIaLN2Fw1",
      "execution_count": 189,
      "outputs": [
        {
          "output_type": "execute_result",
          "data": {
            "text/plain": [
              "'5437915825'"
            ],
            "application/vnd.google.colaboratory.intrinsic+json": {
              "type": "string"
            }
          },
          "metadata": {},
          "execution_count": 189
        }
      ]
    },
    {
      "cell_type": "markdown",
      "id": "3f11a5e2",
      "metadata": {
        "id": "3f11a5e2"
      },
      "source": [
        "이거는 현재 vehicles의 분포를 알려주는 것. (Random하게 시작합니다.)"
      ]
    },
    {
      "cell_type": "code",
      "execution_count": null,
      "id": "954a976a",
      "metadata": {
        "id": "954a976a"
      },
      "outputs": [],
      "source": [
        "curr_vehicles = N * np.random.default_rng().dirichlet(np.ones(STATIONS),size=1)\n",
        "curr_vehicles = [np.round(v) for v in curr_vehicles]"
      ]
    },
    {
      "cell_type": "code",
      "execution_count": null,
      "id": "21adac72",
      "metadata": {
        "id": "21adac72",
        "colab": {
          "base_uri": "https://localhost:8080/"
        },
        "outputId": "6914b61e-2ffb-44aa-edcc-ffc904f0fba4"
      },
      "outputs": [
        {
          "output_type": "execute_result",
          "data": {
            "text/plain": [
              "[array([32.,  2., 12., 13.,  4., 19.,  3.,  4.,  3.,  8.])]"
            ]
          },
          "metadata": {},
          "execution_count": 182
        }
      ],
      "source": [
        "curr_vehicles"
      ]
    },
    {
      "cell_type": "code",
      "execution_count": null,
      "id": "13bb1e73",
      "metadata": {
        "id": "13bb1e73"
      },
      "outputs": [],
      "source": [
        "def Reward(i,j,k):\n",
        "    if (Demand[k][i][j] - curr_vehicles[j] ) == 1:\n",
        "        return 20\n",
        "    elif (Demand[k][i][j] - curr_vehicles[j] ) > 0:\n",
        "        return +10\n",
        "    else:\n",
        "        return -1"
      ]
    },
    {
      "cell_type": "code",
      "execution_count": null,
      "id": "f65c0b6f",
      "metadata": {
        "id": "f65c0b6f",
        "colab": {
          "base_uri": "https://localhost:8080/",
          "height": 130
        },
        "outputId": "458ba64c-0176-4f70-8fe8-2bd58f9d4369"
      },
      "outputs": [
        {
          "output_type": "error",
          "ename": "SyntaxError",
          "evalue": "ignored",
          "traceback": [
            "\u001b[0;36m  File \u001b[0;32m\"<ipython-input-184-08d41a8c74a1>\"\u001b[0;36m, line \u001b[0;32m2\u001b[0m\n\u001b[0;31m    \u001b[0m\n\u001b[0m    ^\u001b[0m\n\u001b[0;31mSyntaxError\u001b[0m\u001b[0;31m:\u001b[0m unexpected EOF while parsing\n"
          ]
        }
      ],
      "source": [
        "def benefit(i,j):\n",
        "    "
      ]
    }
  ],
  "metadata": {
    "kernelspec": {
      "display_name": "Python 3.9.13 64-bit (microsoft store)",
      "language": "python",
      "name": "python3"
    },
    "language_info": {
      "codemirror_mode": {
        "name": "ipython",
        "version": 3
      },
      "file_extension": ".py",
      "mimetype": "text/x-python",
      "name": "python",
      "nbconvert_exporter": "python",
      "pygments_lexer": "ipython3",
      "version": "3.9.13"
    },
    "vscode": {
      "interpreter": {
        "hash": "497338f01161d141240caa60efca5087225791fadc9b7c964beb65d863e046f0"
      }
    },
    "colab": {
      "provenance": [],
      "include_colab_link": true
    },
    "gpuClass": "standard"
  },
  "nbformat": 4,
  "nbformat_minor": 5
}